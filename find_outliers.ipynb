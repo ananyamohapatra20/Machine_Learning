{
  "nbformat": 4,
  "nbformat_minor": 0,
  "metadata": {
    "colab": {
      "provenance": [],
      "authorship_tag": "ABX9TyNLjx2kWTzfNgTp93PSeNTX",
      "include_colab_link": true
    },
    "kernelspec": {
      "name": "python3",
      "display_name": "Python 3"
    },
    "language_info": {
      "name": "python"
    }
  },
  "cells": [
    {
      "cell_type": "markdown",
      "metadata": {
        "id": "view-in-github",
        "colab_type": "text"
      },
      "source": [
        "<a href=\"https://colab.research.google.com/github/ananyamohapatra20/Machine_Learning/blob/main/find_outliers.ipynb\" target=\"_parent\"><img src=\"https://colab.research.google.com/assets/colab-badge.svg\" alt=\"Open In Colab\"/></a>"
      ]
    },
    {
      "cell_type": "code",
      "execution_count": 1,
      "metadata": {
        "id": "M2Gpub_ejWWc"
      },
      "outputs": [],
      "source": [
        "import numpy as np\n",
        "import matplotlib.pyplot as plt\n",
        "%matplotlib inline"
      ]
    },
    {
      "cell_type": "code",
      "source": [
        "#Define dataset\n",
        "dataset=[1,2,1,3,4,5,7,9,6,8,10,13,109,12,15,99,9,6,3,2,16,17,20,18,19,16,15]"
      ],
      "metadata": {
        "id": "5DZBDUIoj1xW"
      },
      "execution_count": 5,
      "outputs": []
    },
    {
      "cell_type": "code",
      "source": [
        "plt.hist(dataset)"
      ],
      "metadata": {
        "colab": {
          "base_uri": "https://localhost:8080/",
          "height": 499
        },
        "id": "-jKDdx5bkOfr",
        "outputId": "ef569bf8-0195-4f52-fbf7-b5ee8dd24772"
      },
      "execution_count": 6,
      "outputs": [
        {
          "output_type": "execute_result",
          "data": {
            "text/plain": [
              "(array([15., 10.,  0.,  0.,  0.,  0.,  0.,  0.,  0.,  2.]),\n",
              " array([  1. ,  11.8,  22.6,  33.4,  44.2,  55. ,  65.8,  76.6,  87.4,\n",
              "         98.2, 109. ]),\n",
              " <BarContainer object of 10 artists>)"
            ]
          },
          "metadata": {},
          "execution_count": 6
        },
        {
          "output_type": "display_data",
          "data": {
            "text/plain": [
              "<Figure size 640x480 with 1 Axes>"
            ],
            "image/png": "[encoded data removed]"
          },
          "metadata": {}
        }
      ]
    },
    {
      "cell_type": "code",
      "source": [
        "#Z score\n",
        "outliers=[]\n",
        "def detect_outliers(data):\n",
        "  threshold=2 # 3rd Standard deviation\n",
        "  mean=np.mean(data)\n",
        "  std=np.std(data)\n",
        "\n",
        "  for i in data:\n",
        "    zscore=(i-mean)//std\n",
        "    if np.abs(zscore)>threshold:\n",
        "      outliers.append(i)\n",
        "  return outliers"
      ],
      "metadata": {
        "id": "uaCE9ufCkR_5"
      },
      "execution_count": 16,
      "outputs": []
    },
    {
      "cell_type": "code",
      "source": [
        "print(detect_outliers(dataset))"
      ],
      "metadata": {
        "colab": {
          "base_uri": "https://localhost:8080/"
        },
        "id": "-qZWYn32l7Be",
        "outputId": "b11d437b-835d-48c4-f75d-5e4b21a4fa43"
      },
      "execution_count": 17,
      "outputs": [
        {
          "output_type": "stream",
          "name": "stdout",
          "text": [
            "[109, 99]\n"
          ]
        }
      ]
    },
    {
      "cell_type": "markdown",
      "source": [
        "<h3>Inter Quartile Range (IQR) <br></h3>\n",
        "1.Sort the data<br>\n",
        "2.Calculate Q1(25%) and Q3(75%)<br>\n",
        "3.IQR(Q3-Q1)<br>\n",
        "4.Find Lower Fence(Q1-1.5*(IQR))<br>\n",
        "5.Find Upper Fence(Q3+1.5(IQR))<br>"
      ],
      "metadata": {
        "id": "dEXhObwBmglV"
      }
    },
    {
      "cell_type": "code",
      "source": [
        "dataset.sort()"
      ],
      "metadata": {
        "id": "mZt9kMjGmefT"
      },
      "execution_count": 18,
      "outputs": []
    },
    {
      "cell_type": "code",
      "source": [
        "q1,q3=np.percentile(dataset,[25,75])\n",
        "print(q1,q3)"
      ],
      "metadata": {
        "colab": {
          "base_uri": "https://localhost:8080/"
        },
        "id": "07t5cDUtnluz",
        "outputId": "4b941d0d-1d24-454f-a1bb-445bb7ce5212"
      },
      "execution_count": 20,
      "outputs": [
        {
          "output_type": "stream",
          "name": "stdout",
          "text": [
            "4.5 16.0\n"
          ]
        }
      ]
    },
    {
      "cell_type": "code",
      "source": [
        "iqr=q3-q1\n",
        "print(iqr)"
      ],
      "metadata": {
        "colab": {
          "base_uri": "https://localhost:8080/"
        },
        "id": "h4HIo309nzmQ",
        "outputId": "2515d40d-37f4-4458-c5d8-46a588840204"
      },
      "execution_count": 26,
      "outputs": [
        {
          "output_type": "stream",
          "name": "stdout",
          "text": [
            "11.5\n"
          ]
        }
      ]
    },
    {
      "cell_type": "code",
      "source": [
        "lower_fence=q1-(1.5*iqr)\n",
        "print(lower_fence)"
      ],
      "metadata": {
        "colab": {
          "base_uri": "https://localhost:8080/"
        },
        "id": "Flh7fOldn57n",
        "outputId": "5ae8cf9d-c0ee-43ef-bb79-5596c20d9b75"
      },
      "execution_count": 23,
      "outputs": [
        {
          "output_type": "stream",
          "name": "stdout",
          "text": [
            "-12.75\n"
          ]
        }
      ]
    },
    {
      "cell_type": "code",
      "source": [
        "upper_fence=q3+(1.5*iqr)\n",
        "print(upper_fence)"
      ],
      "metadata": {
        "colab": {
          "base_uri": "https://localhost:8080/"
        },
        "id": "tjf2S3kXoDqN",
        "outputId": "903d4d4a-c39e-452f-e5b2-404f0d62821f"
      },
      "execution_count": 25,
      "outputs": [
        {
          "output_type": "stream",
          "name": "stdout",
          "text": [
            "33.25\n"
          ]
        }
      ]
    },
    {
      "cell_type": "code",
      "source": [
        "import seaborn as sns\n",
        "sns.boxplot(dataset)"
      ],
      "metadata": {
        "colab": {
          "base_uri": "https://localhost:8080/",
          "height": 428
        },
        "id": "rIZokkRXoM8P",
        "outputId": "192fbae1-b2f3-482d-ae57-f33a01ffd479"
      },
      "execution_count": 28,
      "outputs": [
        {
          "output_type": "execute_result",
          "data": {
            "text/plain": [
              "<Axes: >"
            ]
          },
          "metadata": {},
          "execution_count": 28
        },
        {
          "output_type": "display_data",
          "data": {
            "text/plain": [
              "<Figure size 640x480 with 1 Axes>"
            ],
            "image/png": "[encoded data removed]"
          },
          "metadata": {}
        }
      ]
    },
    {
      "cell_type": "code",
      "source": [],
      "metadata": {
        "id": "cdnGU4vFo1IA"
      },
      "execution_count": null,
      "outputs": []
    }
  ]
}