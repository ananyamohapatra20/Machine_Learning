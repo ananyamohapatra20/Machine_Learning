{
  "nbformat": 4,
  "nbformat_minor": 0,
  "metadata": {
    "colab": {
      "provenance": [],
      "authorship_tag": "ABX9TyMwTJe1dH1Xs7qdxEcJ5EPK",
      "include_colab_link": true
    },
    "kernelspec": {
      "name": "python3",
      "display_name": "Python 3"
    },
    "language_info": {
      "name": "python"
    }
  },
  "cells": [
    {
      "cell_type": "markdown",
      "metadata": {
        "id": "view-in-github",
        "colab_type": "text"
      },
      "source": [
        "<a href=\"https://colab.research.google.com/github/ananyamohapatra20/Machine_Learning/blob/main/Numpy.ipynb\" target=\"_parent\"><img src=\"https://colab.research.google.com/assets/colab-badge.svg\" alt=\"Open In Colab\"/></a>"
      ]
    },
    {
      "cell_type": "markdown",
      "source": [
        "Numpy-Numerical Python\n",
        "<br>\n",
        "Advantages of Numpy:<br>\n",
        "Allows several Mathematical Operations<br>\n",
        "Faster Opertaions"
      ],
      "metadata": {
        "id": "hH9QW-4CNuMf"
      }
    },
    {
      "cell_type": "code",
      "source": [
        "import numpy as np"
      ],
      "metadata": {
        "id": "1AKdW5JxcniZ"
      },
      "execution_count": 74,
      "outputs": []
    },
    {
      "cell_type": "markdown",
      "source": [
        "Numpy Vs List"
      ],
      "metadata": {
        "id": "fCnsF6sbcJ2C"
      }
    },
    {
      "cell_type": "code",
      "source": [
        "from time import process_time"
      ],
      "metadata": {
        "id": "JJbGWR4DNm9w"
      },
      "execution_count": 75,
      "outputs": []
    },
    {
      "cell_type": "markdown",
      "source": [
        "Time Taken By a List"
      ],
      "metadata": {
        "id": "DzLERyU1Nyh9"
      }
    },
    {
      "cell_type": "code",
      "source": [
        "python_list=[i for i in range(10000)]\n",
        "\n",
        "start_time= process_time()\n",
        "\n",
        "python_list=[i+5 for i in python_list]\n",
        "\n",
        "end_time=process_time()\n",
        "print(end_time - start_time)"
      ],
      "metadata": {
        "colab": {
          "base_uri": "https://localhost:8080/"
        },
        "id": "ix62nxm_N020",
        "outputId": "4a7a5a12-c270-4eb0-cde9-a92c4d99a783"
      },
      "execution_count": 76,
      "outputs": [
        {
          "output_type": "stream",
          "name": "stdout",
          "text": [
            "0.0012969279999985872\n"
          ]
        }
      ]
    },
    {
      "cell_type": "markdown",
      "source": [
        "Time taken by Numpy Array"
      ],
      "metadata": {
        "id": "0lx8O3aRN6Wx"
      }
    },
    {
      "cell_type": "code",
      "source": [
        "np_array=np.array([i for i in range(10000)])\n",
        "\n",
        "start_time=process_time()\n",
        "\n",
        "np_array+=5\n",
        "\n",
        "end_time = process_time()\n",
        "\n",
        "print(end_time - start_time)"
      ],
      "metadata": {
        "colab": {
          "base_uri": "https://localhost:8080/"
        },
        "id": "5PJvdZDTN38-",
        "outputId": "4029659c-7d59-4d2e-ec12-7d6a2056a146"
      },
      "execution_count": 77,
      "outputs": [
        {
          "output_type": "stream",
          "name": "stdout",
          "text": [
            "0.0002346100000032436\n"
          ]
        }
      ]
    },
    {
      "cell_type": "markdown",
      "source": [
        "Numpy Array"
      ],
      "metadata": {
        "id": "z6z8TtAkOZk_"
      }
    },
    {
      "cell_type": "code",
      "source": [
        "np_array=np.array([1,2,3,4])\n",
        "np_array\n"
      ],
      "metadata": {
        "colab": {
          "base_uri": "https://localhost:8080/"
        },
        "id": "i0sSH0fDOQOR",
        "outputId": "e7f244b8-4f72-4806-c728-d84dc963f9c1"
      },
      "execution_count": 78,
      "outputs": [
        {
          "output_type": "execute_result",
          "data": {
            "text/plain": [
              "array([1, 2, 3, 4])"
            ]
          },
          "metadata": {},
          "execution_count": 78
        }
      ]
    },
    {
      "cell_type": "code",
      "source": [
        "type(np_array)"
      ],
      "metadata": {
        "colab": {
          "base_uri": "https://localhost:8080/"
        },
        "id": "SzWiHluFQQ1R",
        "outputId": "66b131ce-8ce9-4119-ec2f-fb117e43f6d4"
      },
      "execution_count": 79,
      "outputs": [
        {
          "output_type": "execute_result",
          "data": {
            "text/plain": [
              "numpy.ndarray"
            ]
          },
          "metadata": {},
          "execution_count": 79
        }
      ]
    },
    {
      "cell_type": "code",
      "source": [
        "np_array.shape"
      ],
      "metadata": {
        "colab": {
          "base_uri": "https://localhost:8080/"
        },
        "id": "xAVa6SoMP2VS",
        "outputId": "e9f44ce9-19f3-4bc0-9d1e-12170ad0d6fe"
      },
      "execution_count": 80,
      "outputs": [
        {
          "output_type": "execute_result",
          "data": {
            "text/plain": [
              "(4,)"
            ]
          },
          "metadata": {},
          "execution_count": 80
        }
      ]
    },
    {
      "cell_type": "markdown",
      "source": [
        "2D ARRAY"
      ],
      "metadata": {
        "id": "kWmRv-gQQaWg"
      }
    },
    {
      "cell_type": "code",
      "source": [
        "a=np.array([(1,2,3,4),(5,6,7,8)])\n",
        "a"
      ],
      "metadata": {
        "colab": {
          "base_uri": "https://localhost:8080/"
        },
        "id": "852IAwm_P2YC",
        "outputId": "84d99879-2dcf-458d-fabc-a2c0edcdc347"
      },
      "execution_count": 81,
      "outputs": [
        {
          "output_type": "execute_result",
          "data": {
            "text/plain": [
              "array([[1, 2, 3, 4],\n",
              "       [5, 6, 7, 8]])"
            ]
          },
          "metadata": {},
          "execution_count": 81
        }
      ]
    },
    {
      "cell_type": "code",
      "source": [
        "a.shape"
      ],
      "metadata": {
        "colab": {
          "base_uri": "https://localhost:8080/"
        },
        "id": "OWY86JrIP2fN",
        "outputId": "364a5f93-4a61-4925-9691-49204276bbe9"
      },
      "execution_count": 82,
      "outputs": [
        {
          "output_type": "execute_result",
          "data": {
            "text/plain": [
              "(2, 4)"
            ]
          },
          "metadata": {},
          "execution_count": 82
        }
      ]
    },
    {
      "cell_type": "code",
      "source": [
        "b=np.array([(1,2,3,4,5),(92,35,8,9,3)],dtype=float)\n",
        "b"
      ],
      "metadata": {
        "colab": {
          "base_uri": "https://localhost:8080/"
        },
        "id": "RtNNhCUvP2hz",
        "outputId": "f47dbd3c-1eb1-403e-c92d-18bd40db70cf"
      },
      "execution_count": 83,
      "outputs": [
        {
          "output_type": "execute_result",
          "data": {
            "text/plain": [
              "array([[ 1.,  2.,  3.,  4.,  5.],\n",
              "       [92., 35.,  8.,  9.,  3.]])"
            ]
          },
          "metadata": {},
          "execution_count": 83
        }
      ]
    },
    {
      "cell_type": "markdown",
      "source": [
        "Initial Placeholders in Numpy array"
      ],
      "metadata": {
        "id": "iHaXY2-LQyha"
      }
    },
    {
      "cell_type": "code",
      "source": [
        "#Create a numpy array of zeros\n",
        "x=np.zeros((2,4))\n",
        "x"
      ],
      "metadata": {
        "colab": {
          "base_uri": "https://localhost:8080/"
        },
        "id": "avy9yRw4P2kR",
        "outputId": "b5bd7dca-50c2-4fe8-bf30-1927ebcb14d5"
      },
      "execution_count": 84,
      "outputs": [
        {
          "output_type": "execute_result",
          "data": {
            "text/plain": [
              "array([[0., 0., 0., 0.],\n",
              "       [0., 0., 0., 0.]])"
            ]
          },
          "metadata": {},
          "execution_count": 84
        }
      ]
    },
    {
      "cell_type": "code",
      "source": [
        "#Create a numpy array of ones\n",
        "y=np.ones((2,4))\n",
        "y"
      ],
      "metadata": {
        "colab": {
          "base_uri": "https://localhost:8080/"
        },
        "id": "6OMlLQE3P2pY",
        "outputId": "31b1a58b-e61f-430d-e871-0fcd48b2cd13"
      },
      "execution_count": 85,
      "outputs": [
        {
          "output_type": "execute_result",
          "data": {
            "text/plain": [
              "array([[1., 1., 1., 1.],\n",
              "       [1., 1., 1., 1.]])"
            ]
          },
          "metadata": {},
          "execution_count": 85
        }
      ]
    },
    {
      "cell_type": "code",
      "source": [
        "#array of particular value\n",
        "z=np.full((3,4),9)\n",
        "z"
      ],
      "metadata": {
        "colab": {
          "base_uri": "https://localhost:8080/"
        },
        "id": "dBXbimZ8P2tw",
        "outputId": "d1487bde-b46f-43f3-b143-3f84999b74da"
      },
      "execution_count": 86,
      "outputs": [
        {
          "output_type": "execute_result",
          "data": {
            "text/plain": [
              "array([[9, 9, 9, 9],\n",
              "       [9, 9, 9, 9],\n",
              "       [9, 9, 9, 9]])"
            ]
          },
          "metadata": {},
          "execution_count": 86
        }
      ]
    },
    {
      "cell_type": "code",
      "source": [
        "#Create an identity matrix\n",
        "i=np.eye(5)\n",
        "i"
      ],
      "metadata": {
        "colab": {
          "base_uri": "https://localhost:8080/"
        },
        "id": "gXnfOAblRm5K",
        "outputId": "5fa61ac8-0b3e-49c9-f88f-183a5970e2bb"
      },
      "execution_count": 87,
      "outputs": [
        {
          "output_type": "execute_result",
          "data": {
            "text/plain": [
              "array([[1., 0., 0., 0., 0.],\n",
              "       [0., 1., 0., 0., 0.],\n",
              "       [0., 0., 1., 0., 0.],\n",
              "       [0., 0., 0., 1., 0.],\n",
              "       [0., 0., 0., 0., 1.]])"
            ]
          },
          "metadata": {},
          "execution_count": 87
        }
      ]
    },
    {
      "cell_type": "code",
      "source": [
        "# Create a numpy array with random values\n",
        "r=np.random.random((3,3))\n",
        "r"
      ],
      "metadata": {
        "colab": {
          "base_uri": "https://localhost:8080/"
        },
        "id": "rCY4KImPR4Ks",
        "outputId": "b30ec0e3-6913-404f-f288-607b89a21230"
      },
      "execution_count": 88,
      "outputs": [
        {
          "output_type": "execute_result",
          "data": {
            "text/plain": [
              "array([[0.68830369, 0.95447495, 0.03378051],\n",
              "       [0.74028224, 0.23904267, 0.56302376],\n",
              "       [0.80640394, 0.78355892, 0.62797858]])"
            ]
          },
          "metadata": {},
          "execution_count": 88
        }
      ]
    },
    {
      "cell_type": "code",
      "source": [
        "#Create a numpy array with random integer value\n",
        "v=np.random.randint(10,30,(3,4))\n",
        "v"
      ],
      "metadata": {
        "colab": {
          "base_uri": "https://localhost:8080/"
        },
        "id": "nKyTl60PSMCU",
        "outputId": "e9412a8d-47c8-4e90-85b4-d0aacf0e083a"
      },
      "execution_count": 89,
      "outputs": [
        {
          "output_type": "execute_result",
          "data": {
            "text/plain": [
              "array([[13, 12, 22, 27],\n",
              "       [16, 19, 11, 23],\n",
              "       [23, 21, 14, 28]])"
            ]
          },
          "metadata": {},
          "execution_count": 89
        }
      ]
    },
    {
      "cell_type": "code",
      "source": [
        "#Array of evenly spaced values (specifying the number of value required)\n",
        "n=np.linspace(10,30,5)\n",
        "n"
      ],
      "metadata": {
        "colab": {
          "base_uri": "https://localhost:8080/"
        },
        "id": "ZSli3856So5w",
        "outputId": "9c548d9d-9372-4ffe-f791-c3e162153925"
      },
      "execution_count": 90,
      "outputs": [
        {
          "output_type": "execute_result",
          "data": {
            "text/plain": [
              "array([10., 15., 20., 25., 30.])"
            ]
          },
          "metadata": {},
          "execution_count": 90
        }
      ]
    },
    {
      "cell_type": "code",
      "source": [
        "#Array of evenly spaced values (specifying the step)\n",
        "e = np.arange(10,30,3)\n",
        "e"
      ],
      "metadata": {
        "colab": {
          "base_uri": "https://localhost:8080/"
        },
        "id": "ItuoWxr2TbSD",
        "outputId": "4d676cc6-3904-4427-8eed-3691a104fa0c"
      },
      "execution_count": 91,
      "outputs": [
        {
          "output_type": "execute_result",
          "data": {
            "text/plain": [
              "array([10, 13, 16, 19, 22, 25, 28])"
            ]
          },
          "metadata": {},
          "execution_count": 91
        }
      ]
    },
    {
      "cell_type": "code",
      "source": [
        "#Convert list to array\n",
        "list1=[1,2,3,5,6]\n",
        "arr=np.asarray(list1)\n",
        "print(arr)\n",
        "type(arr)"
      ],
      "metadata": {
        "colab": {
          "base_uri": "https://localhost:8080/"
        },
        "id": "CGI7qwt3Td5g",
        "outputId": "5a0d1f33-1859-4afe-efa7-4c2ce9dc8696"
      },
      "execution_count": 92,
      "outputs": [
        {
          "output_type": "stream",
          "name": "stdout",
          "text": [
            "[1 2 3 5 6]\n"
          ]
        },
        {
          "output_type": "execute_result",
          "data": {
            "text/plain": [
              "numpy.ndarray"
            ]
          },
          "metadata": {},
          "execution_count": 92
        }
      ]
    },
    {
      "cell_type": "markdown",
      "source": [
        "Analysing a numpy array"
      ],
      "metadata": {
        "id": "-Vd9b9EJW7Dr"
      }
    },
    {
      "cell_type": "code",
      "source": [
        "d=np.random.randint(30,80,(3,3))\n",
        "d"
      ],
      "metadata": {
        "colab": {
          "base_uri": "https://localhost:8080/"
        },
        "id": "X2LeKT9iW_v3",
        "outputId": "64ba0ae8-7c09-4475-ee51-ffb952ca8a81"
      },
      "execution_count": 93,
      "outputs": [
        {
          "output_type": "execute_result",
          "data": {
            "text/plain": [
              "array([[54, 41, 34],\n",
              "       [44, 63, 43],\n",
              "       [62, 77, 42]])"
            ]
          },
          "metadata": {},
          "execution_count": 93
        }
      ]
    },
    {
      "cell_type": "code",
      "source": [
        "#Array Dimentions\n",
        "print(d.shape)"
      ],
      "metadata": {
        "colab": {
          "base_uri": "https://localhost:8080/"
        },
        "id": "ytlmDrxgXNL-",
        "outputId": "052bede3-576d-49a5-f8c1-40bd3f39ede0"
      },
      "execution_count": 94,
      "outputs": [
        {
          "output_type": "stream",
          "name": "stdout",
          "text": [
            "(3, 3)\n"
          ]
        }
      ]
    },
    {
      "cell_type": "code",
      "source": [
        "# number of dimensions #1D #2D\n",
        "print(d.ndim)"
      ],
      "metadata": {
        "colab": {
          "base_uri": "https://localhost:8080/"
        },
        "id": "gJdkdo_AXWDM",
        "outputId": "89f4fbc4-68a7-4b74-9795-37684e5fb9ae"
      },
      "execution_count": 95,
      "outputs": [
        {
          "output_type": "stream",
          "name": "stdout",
          "text": [
            "2\n"
          ]
        }
      ]
    },
    {
      "cell_type": "code",
      "source": [
        "#number of elements in an array\n",
        "print(d.size)"
      ],
      "metadata": {
        "colab": {
          "base_uri": "https://localhost:8080/"
        },
        "id": "PWgdyDVDXe5D",
        "outputId": "d1fd0093-53d3-4288-f585-16f6c58dadfc"
      },
      "execution_count": 96,
      "outputs": [
        {
          "output_type": "stream",
          "name": "stdout",
          "text": [
            "9\n"
          ]
        }
      ]
    },
    {
      "cell_type": "code",
      "source": [
        "#checking the datatype of values in the array\n",
        "print(d.dtype)"
      ],
      "metadata": {
        "colab": {
          "base_uri": "https://localhost:8080/"
        },
        "id": "4qX0tBIGXl7i",
        "outputId": "a88e4e04-080d-4ad3-fd46-2b92f94f292f"
      },
      "execution_count": 97,
      "outputs": [
        {
          "output_type": "stream",
          "name": "stdout",
          "text": [
            "int64\n"
          ]
        }
      ]
    },
    {
      "cell_type": "markdown",
      "source": [
        "Mathematical opertaions on a Numpy array"
      ],
      "metadata": {
        "id": "zgtSPHPTX1DL"
      }
    },
    {
      "cell_type": "code",
      "source": [
        "list2 = [1,2,3,4,5,6]\n",
        "list3 = [9,8,10,11,12]\n",
        "print(list2 + list3) #concatenate or join two list"
      ],
      "metadata": {
        "colab": {
          "base_uri": "https://localhost:8080/"
        },
        "id": "Z0Lq5dMKXwYh",
        "outputId": "869ada82-7627-4580-d897-d875f491f200"
      },
      "execution_count": 98,
      "outputs": [
        {
          "output_type": "stream",
          "name": "stdout",
          "text": [
            "[1, 2, 3, 4, 5, 6, 9, 8, 10, 11, 12]\n"
          ]
        }
      ]
    },
    {
      "cell_type": "code",
      "source": [
        "p=np.random.randint(10,20,(3,4))\n",
        "q=p=np.random.randint(30,60,(3,4))\n",
        "print(p)\n",
        "print(q)\n"
      ],
      "metadata": {
        "colab": {
          "base_uri": "https://localhost:8080/"
        },
        "id": "FvNGfEg-YLdS",
        "outputId": "c6311ece-25de-4020-f275-0d0b7a4c323c"
      },
      "execution_count": 99,
      "outputs": [
        {
          "output_type": "stream",
          "name": "stdout",
          "text": [
            "[[54 56 41 49]\n",
            " [34 34 56 41]\n",
            " [49 30 32 56]]\n",
            "[[54 56 41 49]\n",
            " [34 34 56 41]\n",
            " [49 30 32 56]]\n"
          ]
        }
      ]
    },
    {
      "cell_type": "code",
      "source": [
        "print(p + q)\n",
        "print(p - q)\n",
        "print(p * q)\n",
        "print(p / q)"
      ],
      "metadata": {
        "colab": {
          "base_uri": "https://localhost:8080/"
        },
        "id": "jECGlur8Y3-W",
        "outputId": "d7a71509-41e6-4668-9341-f550cefa874a"
      },
      "execution_count": 100,
      "outputs": [
        {
          "output_type": "stream",
          "name": "stdout",
          "text": [
            "[[108 112  82  98]\n",
            " [ 68  68 112  82]\n",
            " [ 98  60  64 112]]\n",
            "[[0 0 0 0]\n",
            " [0 0 0 0]\n",
            " [0 0 0 0]]\n",
            "[[2916 3136 1681 2401]\n",
            " [1156 1156 3136 1681]\n",
            " [2401  900 1024 3136]]\n",
            "[[1. 1. 1. 1.]\n",
            " [1. 1. 1. 1.]\n",
            " [1. 1. 1. 1.]]\n"
          ]
        }
      ]
    },
    {
      "cell_type": "code",
      "source": [
        "print(np.add(p,q))\n",
        "print(np.subtract(p,q))\n",
        "print(np.multiply(p,q))\n",
        "print(np.divide(p,q))"
      ],
      "metadata": {
        "colab": {
          "base_uri": "https://localhost:8080/"
        },
        "id": "iTydKJFmY_94",
        "outputId": "e71d0454-9126-4689-ef9a-333313c9ef83"
      },
      "execution_count": 101,
      "outputs": [
        {
          "output_type": "stream",
          "name": "stdout",
          "text": [
            "[[108 112  82  98]\n",
            " [ 68  68 112  82]\n",
            " [ 98  60  64 112]]\n",
            "[[0 0 0 0]\n",
            " [0 0 0 0]\n",
            " [0 0 0 0]]\n",
            "[[2916 3136 1681 2401]\n",
            " [1156 1156 3136 1681]\n",
            " [2401  900 1024 3136]]\n",
            "[[1. 1. 1. 1.]\n",
            " [1. 1. 1. 1.]\n",
            " [1. 1. 1. 1.]]\n"
          ]
        }
      ]
    },
    {
      "cell_type": "markdown",
      "source": [
        "Array manipulation\n"
      ],
      "metadata": {
        "id": "ktobIFImZpAa"
      }
    },
    {
      "cell_type": "code",
      "source": [
        "array=np.random.randint(2,40,(4,3))\n",
        "array"
      ],
      "metadata": {
        "colab": {
          "base_uri": "https://localhost:8080/"
        },
        "id": "VSQvyMlVZnfe",
        "outputId": "ee6ced90-6a97-4820-ed1f-3b1c4348eabb"
      },
      "execution_count": 102,
      "outputs": [
        {
          "output_type": "execute_result",
          "data": {
            "text/plain": [
              "array([[27,  7,  3],\n",
              "       [14, 18, 26],\n",
              "       [ 5, 30, 30],\n",
              "       [21, 14, 22]])"
            ]
          },
          "metadata": {},
          "execution_count": 102
        }
      ]
    },
    {
      "cell_type": "code",
      "source": [
        "#Transpose\n",
        "trans=np.transpose(array)\n",
        "print(trans)"
      ],
      "metadata": {
        "colab": {
          "base_uri": "https://localhost:8080/"
        },
        "id": "BdsYxFxSZ31E",
        "outputId": "d87f06b1-8b44-4934-c2ba-c4d606bb95f5"
      },
      "execution_count": 103,
      "outputs": [
        {
          "output_type": "stream",
          "name": "stdout",
          "text": [
            "[[27 14  5 21]\n",
            " [ 7 18 30 14]\n",
            " [ 3 26 30 22]]\n"
          ]
        }
      ]
    },
    {
      "cell_type": "code",
      "source": [
        "array=np.random.randint(2,40,(4,3))\n",
        "print(array)\n",
        "print(array.shape)\n"
      ],
      "metadata": {
        "colab": {
          "base_uri": "https://localhost:8080/"
        },
        "id": "kPQWBDK4aAaW",
        "outputId": "089b35eb-96cf-4f3f-b8b2-bfa607d3c26e"
      },
      "execution_count": 104,
      "outputs": [
        {
          "output_type": "stream",
          "name": "stdout",
          "text": [
            "[[24 20 10]\n",
            " [36 38  6]\n",
            " [18  3 14]\n",
            " [39 33 11]]\n",
            "(4, 3)\n"
          ]
        }
      ]
    },
    {
      "cell_type": "code",
      "source": [
        "trans2=array.T\n",
        "print(trans2)\n",
        "print(trans2.shape)"
      ],
      "metadata": {
        "colab": {
          "base_uri": "https://localhost:8080/"
        },
        "id": "Kfokg9ebbZ-3",
        "outputId": "bf99d813-f4d9-4256-f3b0-51dbd75035c3"
      },
      "execution_count": 105,
      "outputs": [
        {
          "output_type": "stream",
          "name": "stdout",
          "text": [
            "[[24 36 18 39]\n",
            " [20 38  3 33]\n",
            " [10  6 14 11]]\n",
            "(3, 4)\n"
          ]
        }
      ]
    },
    {
      "cell_type": "code",
      "source": [
        "#Reshaping a array\n",
        "array1=np.random.randint(2,30,(3,2))\n",
        "array1\n"
      ],
      "metadata": {
        "colab": {
          "base_uri": "https://localhost:8080/"
        },
        "id": "F7VXniBybikY",
        "outputId": "3a7c6d9f-da07-4d60-e5a3-1b5b0395a1da"
      },
      "execution_count": 106,
      "outputs": [
        {
          "output_type": "execute_result",
          "data": {
            "text/plain": [
              "array([[23, 16],\n",
              "       [23, 18],\n",
              "       [14,  8]])"
            ]
          },
          "metadata": {},
          "execution_count": 106
        }
      ]
    },
    {
      "cell_type": "code",
      "source": [
        "b=array1.reshape(2,3)\n",
        "print(b)\n",
        "print(b.shape)"
      ],
      "metadata": {
        "colab": {
          "base_uri": "https://localhost:8080/"
        },
        "id": "E4qTHGHKbzJQ",
        "outputId": "ae1568d2-209e-45d0-cc96-23b093bca2db"
      },
      "execution_count": 107,
      "outputs": [
        {
          "output_type": "stream",
          "name": "stdout",
          "text": [
            "[[23 16 23]\n",
            " [18 14  8]]\n",
            "(2, 3)\n"
          ]
        }
      ]
    }
  ]
}